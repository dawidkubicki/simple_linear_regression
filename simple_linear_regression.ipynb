{
  "nbformat": 4,
  "nbformat_minor": 0,
  "metadata": {
    "colab": {
      "name": "simple_linear_regression.ipynb",
      "provenance": [],
      "authorship_tag": "ABX9TyMeqNxgUPHnvOq+1UT4qgDB",
      "include_colab_link": true
    },
    "kernelspec": {
      "name": "python3",
      "display_name": "Python 3"
    }
  },
  "cells": [
    {
      "cell_type": "markdown",
      "metadata": {
        "id": "view-in-github",
        "colab_type": "text"
      },
      "source": [
        "<a href=\"https://colab.research.google.com/github/dawidkubicki/simple_linear_regression/blob/main/simple_linear_regression.ipynb\" target=\"_parent\"><img src=\"https://colab.research.google.com/assets/colab-badge.svg\" alt=\"Open In Colab\"/></a>"
      ]
    },
    {
      "cell_type": "code",
      "metadata": {
        "id": "1vCiLosBEG5P"
      },
      "source": [
        "import numpy as np\n",
        "import matplotlib.pyplot as plt"
      ],
      "execution_count": 2,
      "outputs": []
    },
    {
      "cell_type": "markdown",
      "metadata": {
        "id": "yBXDWdhsXmcf"
      },
      "source": [
        ""
      ]
    },
    {
      "cell_type": "code",
      "metadata": {
        "id": "wwS8TsGAFJAQ"
      },
      "source": [
        "def estimate_coef(x,y):\n",
        "  # define number of observation points\n",
        "  n = np.size(x)\n",
        "\n",
        "  # mean of x and y vector\n",
        "  m_x, m_y = np.mean(x), np.mean(y)\n",
        "\n",
        "  # calculating cross-deviation and deviation about x\n",
        "  SS_xy = np.sum(y*x) - n*m_y*m_x\n",
        "  SS_xx = np.sum(x*x) - n*m_x*m_x\n",
        "\n",
        "  # calculating regression coefficients\n",
        "  b_1 = SS_xy / SS_xx\n",
        "  b_0 = m_y - b_1*m_x\n",
        "\n",
        "  return (b_0, b_1)"
      ],
      "execution_count": 1,
      "outputs": []
    },
    {
      "cell_type": "code",
      "metadata": {
        "id": "EKZiDgTTXpgB"
      },
      "source": [
        "def plot_regression_line(x,y,b):\n",
        "  plt.scatter(x,y, color=\"m\",marker=\"o\", s=30)\n",
        "\n",
        "  y_pred=b[0] + b[1]*x\n",
        "\n",
        "  plt.plot(x, y_pred, color=\"g\")\n",
        "  \n",
        "  plt.xlabel('x')\n",
        "  plt.ylabel('y')\n",
        "\n",
        "  plt.show()"
      ],
      "execution_count": 4,
      "outputs": []
    },
    {
      "cell_type": "code",
      "metadata": {
        "id": "hpCoWJRsYKmA"
      },
      "source": [
        "def main():\n",
        "  x = np.array([0,1,2,3,4,5,6,7,8,9])\n",
        "  y = np.array([2,4,6,8,11,12,14,16,18,22])\n",
        "\n",
        "  b = estimate_coef(x,y)\n",
        "  print(\"Estimated coefficients: \\nb_0 = {} \\nb_1 = {}\".format(b[0], b[1]))\n",
        "\n",
        "  plot_regression_line(x,y,b)  "
      ],
      "execution_count": 6,
      "outputs": []
    },
    {
      "cell_type": "code",
      "metadata": {
        "colab": {
          "base_uri": "https://localhost:8080/",
          "height": 330
        },
        "id": "iArjOyJdYzFd",
        "outputId": "3f4c47c7-5fa9-4fdf-9822-fa9943369f59"
      },
      "source": [
        "if __name__ == \"__main__\":\n",
        "  main()"
      ],
      "execution_count": 7,
      "outputs": [
        {
          "output_type": "stream",
          "text": [
            "Estimated coefficients: \n",
            "b_0 = 1.8363636363636378 \n",
            "b_1 = 2.103030303030303\n"
          ],
          "name": "stdout"
        },
        {
          "output_type": "display_data",
          "data": {
            "image/png": "[encoded data removed]",
            "text/plain": [
              "<Figure size 432x288 with 1 Axes>"
            ]
          },
          "metadata": {
            "tags": [],
            "needs_background": "light"
          }
        }
      ]
    }
  ]
}